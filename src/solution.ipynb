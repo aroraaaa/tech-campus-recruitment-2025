{
 "cells": [
  {
   "cell_type": "code",
   "execution_count": 5,
   "id": "1965da28-f839-436c-97d4-70c28edee517",
   "metadata": {},
   "outputs": [
    {
     "name": "stdin",
     "output_type": "stream",
     "text": [
      "Enter the date (YYYY-MM-DD):  2024-12-01\n"
     ]
    },
    {
     "name": "stdout",
     "output_type": "stream",
     "text": [
      "Logs for 2024-12-01 saved to output\\output_2024-12-01.txt\n"
     ]
    }
   ],
   "source": [
    "import os\n",
    "\n",
    "def extract_logs(log_file, search_date, output_dir=\"output\"):\n",
    "    if not os.path.exists(output_dir):\n",
    "        os.makedirs(output_dir)\n",
    "\n",
    "    output_file = os.path.join(output_dir, f\"output_{search_date}.txt\")\n",
    "\n",
    "    try:\n",
    "        with open(log_file, \"r\") as infile, open(output_file, \"w\") as outfile:\n",
    "            for line in infile:\n",
    "                if line.startswith(search_date): \n",
    "                    outfile.write(line)\n",
    "\n",
    "        print(f\"Logs for {search_date} saved to {output_file}\")\n",
    "\n",
    "    except FileNotFoundError:\n",
    "        print(f\"Error: Log file '{log_file}' not found.\")\n",
    "    except Exception as e:\n",
    "        print(f\"An error occurred: {e}\")\n",
    "\n",
    "search_date = input(\"Enter the date (YYYY-MM-DD): \")\n",
    "\n",
    "log_file = \"logs_2024.log\"\n",
    "\n",
    "extract_logs(log_file, search_date)"
   ]
  },
  {
   "cell_type": "code",
   "execution_count": null,
   "id": "06e5bfbc-76dd-4f9c-a4b5-aeb5601a572a",
   "metadata": {},
   "outputs": [],
   "source": [
    "n"
   ]
  }
 ],
 "metadata": {
  "kernelspec": {
   "display_name": "Python 3 (ipykernel)",
   "language": "python",
   "name": "python3"
  },
  "language_info": {
   "codemirror_mode": {
    "name": "ipython",
    "version": 3
   },
   "file_extension": ".py",
   "mimetype": "text/x-python",
   "name": "python",
   "nbconvert_exporter": "python",
   "pygments_lexer": "ipython3",
   "version": "3.13.1"
  }
 },
 "nbformat": 4,
 "nbformat_minor": 5
}
